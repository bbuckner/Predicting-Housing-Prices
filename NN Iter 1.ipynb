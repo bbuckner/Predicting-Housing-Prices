{
 "cells": [
  {
   "cell_type": "code",
   "execution_count": 1,
   "metadata": {},
   "outputs": [],
   "source": [
    "import pandas as pd\n",
    "from sklearn.preprocessing import MinMaxScaler\n",
    "from sklearn.model_selection import train_test_split\n",
    "from sklearn.metrics import mean_absolute_error\n",
    "import tensorflow as tf\n",
    "from tensorflow import keras\n",
    "from keras import Sequential\n",
    "from keras.layers import Dense\n",
    "import warnings"
   ]
  },
  {
   "cell_type": "code",
   "execution_count": 2,
   "metadata": {},
   "outputs": [],
   "source": [
    "df = pd.read_csv(\"train.csv\")"
   ]
  },
  {
   "cell_type": "code",
   "execution_count": 3,
   "metadata": {},
   "outputs": [],
   "source": [
    "factor_columns = ['MSSubClass', 'MSZoning', 'Street', 'Alley', 'LotShape', 'LandContour',\n",
    "                  'Utilities', 'LotConfig', 'LandSlope', 'Neighborhood', 'Condition1',\n",
    "                  'Condition2', 'BldgType', 'HouseStyle', 'RoofStyle', 'RoofMatl',\n",
    "                  'Exterior1st', 'Exterior2nd', 'MasVnrType', 'ExterQual', 'ExterCond',\n",
    "                  'Foundation', 'BsmtQual', 'BsmtCond', 'BsmtExposure', 'BsmtFinType1',\n",
    "                  'BsmtFinType2', 'Heating', 'HeatingQC', 'CentralAir', 'Electrical',\n",
    "                  'KitchenQual', 'Functional', 'FireplaceQu', 'GarageType', 'GarageFinish',\n",
    "                  'GarageQual', 'GarageCond', 'PavedDrive', 'PoolQC', 'Fence', 'MiscFeature',\n",
    "                  'SaleType', 'SaleCondition']"
   ]
  },
  {
   "cell_type": "code",
   "execution_count": 4,
   "metadata": {},
   "outputs": [],
   "source": [
    "df_factor = df[factor_columns]\n",
    "df_factor = df_factor.apply(lambda x: pd.factorize(x)[0])\n",
    "df = df.drop(columns = factor_columns, axis = 1)\n",
    "df = df.drop(columns = ['Id'])\n",
    "df = pd.concat([df, df_factor], axis = 1)\n",
    "# Either drop all the remaining rows that have nan in a continuous\n",
    "# feature column or replace the nans with the mean of that column.\n",
    "df = df.dropna(axis = 0)"
   ]
  },
  {
   "cell_type": "code",
   "execution_count": 5,
   "metadata": {},
   "outputs": [],
   "source": [
    "scale = True\n",
    "target = 'SalePrice'\n",
    "target_col = df.columns.get_loc(target)\n",
    "if scale:\n",
    "    scaler = MinMaxScaler(feature_range=(0,1))\n",
    "    warnings.filterwarnings(\"ignore\")\n",
    "    scaled_df = scaler.fit_transform(df)\n",
    "    multiplied_by = scaler.scale_[target_col]\n",
    "    added = scaler.min_[target_col]\n",
    "    df = pd.DataFrame(scaled_df, columns = df.columns.values)"
   ]
  },
  {
   "cell_type": "code",
   "execution_count": 37,
   "metadata": {},
   "outputs": [],
   "source": [
    "model = Sequential()\n",
    "model.add(Dense(100, activation = 'relu'))\n",
    "model.add(Dense(150, activation = 'relu'))\n",
    "model.add(Dense(100, activation = 'relu'))\n",
    "model.add(Dense(1))\n",
    "model.compile(loss = 'mean_absolute_error', optimizer = 'adam')"
   ]
  },
  {
   "cell_type": "code",
   "execution_count": 38,
   "metadata": {},
   "outputs": [
    {
     "data": {
      "text/plain": [
       "<tensorflow.python.keras.callbacks.History at 0x21394f6b640>"
      ]
     },
     "execution_count": 38,
     "metadata": {},
     "output_type": "execute_result"
    }
   ],
   "source": [
    "X = df.drop(target, axis = 1).values\n",
    "Y = df[[target]].values\n",
    "train_x, val_x, train_y, val_y = train_test_split(X, Y, random_state = 0)\n",
    "model.fit(train_x, train_y, epochs = 300, shuffle = True, verbose = 0)"
   ]
  },
  {
   "cell_type": "code",
   "execution_count": 39,
   "metadata": {},
   "outputs": [
    {
     "name": "stdout",
     "output_type": "stream",
     "text": [
      "21271.54662477758\n"
     ]
    }
   ],
   "source": [
    "predictions = model.predict(val_x)\n",
    "if scale:\n",
    "    val_y -= added\n",
    "    val_y /= multiplied_by\n",
    "    predictions -= added\n",
    "    predictions /= multiplied_by\n",
    "err = mean_absolute_error(val_y, predictions)\n",
    "print(err)"
   ]
  },
  {
   "cell_type": "code",
   "execution_count": 41,
   "metadata": {},
   "outputs": [
    {
     "name": "stdout",
     "output_type": "stream",
     "text": [
      "0.001\n"
     ]
    }
   ],
   "source": [
    "print(keras.backend.eval(model.optimizer.lr))"
   ]
  }
 ],
 "metadata": {
  "kernelspec": {
   "display_name": "Python 3",
   "language": "python",
   "name": "python3"
  },
  "language_info": {
   "codemirror_mode": {
    "name": "ipython",
    "version": 3
   },
   "file_extension": ".py",
   "mimetype": "text/x-python",
   "name": "python",
   "nbconvert_exporter": "python",
   "pygments_lexer": "ipython3",
   "version": "3.8.1"
  }
 },
 "nbformat": 4,
 "nbformat_minor": 2
}
