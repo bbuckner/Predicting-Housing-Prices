{
 "cells": [
  {
   "cell_type": "markdown",
   "metadata": {},
   "source": [
    "**Allen Blount  \n",
    "Brandon Buckner  \n",
    "CS636850-Data Analytics with R Program  \n",
    "Final Project  \n",
    "House Price Prediction**"
   ]
  },
  {
   "cell_type": "markdown",
   "metadata": {},
   "source": [
    "## Introduction\n",
    "This project aims to show our process for designing a machine learning model to predict future housing prices given historical data. \n",
    "\n",
    "Our process was generally divided into these parts:\n",
    "1. Preprocess Data\n",
    "2. Model design and selection\n",
    "3. Model refinement\n",
    "4. Evaluation\n",
    "\n",
    "Overall this process was repeated twice. \n",
    "\n",
    "Note that throughout this process there was a large amount of trial and error, and different parameters including scaling, data engineering, and feature selection were applied to different models. We generally included our \"best results\"  from each model to show how we narrowed our final choice. \n",
    "\n",
    "A note about metrics: we used Root Mean Squared Error on training data to determine the best model. We also submitted the test data to the Kaggle compitition as they automatically evaluated the RMSE on submissions. \n"
   ]
  },
  {
   "cell_type": "markdown",
   "metadata": {},
   "source": [
    "## Iteration 1\n",
    "### Preprocess Data.1\n",
    "First, the necessary models were imported as well as the training and test data"
   ]
  },
  {
   "cell_type": "code",
   "execution_count": 1,
   "metadata": {},
   "outputs": [],
   "source": [
    "import numpy as np\n",
    "import pandas as pd\n",
    "import matplotlib.pyplot as plt\n",
    "import seaborn as sns\n",
    "from sklearn.metrics import mean_absolute_error\n",
    "from sklearn.model_selection import train_test_split\n",
    "from sklearn.linear_model import LinearRegression\n",
    "from sklearn import metrics\n",
    "from scipy import stats\n",
    "from keras import Sequential\n",
    "from keras.layers import Dense\n",
    "import warnings\n",
    "from sklearn.preprocessing import MinMaxScaler"
   ]
  },
  {
   "cell_type": "code",
   "execution_count": 2,
   "metadata": {},
   "outputs": [],
   "source": [
    "train = pd.read_csv('./data/train.csv')\n",
    "test = pd.read_csv('./data/test.csv')"
   ]
  },
  {
   "cell_type": "markdown",
   "metadata": {},
   "source": [
    "Our first intiuition was to seperate the categorical data from continious data. This was done by a simple factor fuction."
   ]
  },
  {
   "cell_type": "code",
   "execution_count": 3,
   "metadata": {},
   "outputs": [],
   "source": [
    "factor_columns = ['MSSubClass', 'MSZoning', 'Street', 'Alley', 'LotShape', 'LandContour',\n",
    "                  'Utilities', 'LotConfig', 'LandSlope', 'Neighborhood', 'Condition1',\n",
    "                  'Condition2', 'BldgType', 'HouseStyle', 'RoofStyle', 'RoofMatl',\n",
    "                  'Exterior1st', 'Exterior2nd', 'MasVnrType', 'ExterQual', 'ExterCond',\n",
    "                  'Foundation', 'BsmtQual', 'BsmtCond', 'BsmtExposure', 'BsmtFinType1',\n",
    "                  'BsmtFinType2', 'Heating', 'HeatingQC', 'CentralAir', 'Electrical',\n",
    "                  'KitchenQual', 'Functional', 'FireplaceQu', 'GarageType', 'GarageFinish',\n",
    "                  'GarageQual', 'GarageCond', 'PavedDrive', 'PoolQC', 'Fence', 'MiscFeature',\n",
    "                  'SaleType', 'SaleCondition']"
   ]
  },
  {
   "cell_type": "code",
   "execution_count": 4,
   "metadata": {},
   "outputs": [],
   "source": [
    "def data_eng(df):\n",
    "    df = df.drop(['Id'], axis=1)\n",
    "    df_factor = df[factor_columns]\n",
    "    df_factor = df_factor.apply(lambda x: pd.factorize(x)[0])\n",
    "    df = df.drop(factor_columns, axis=1)\n",
    "    df = pd.concat([df, df_factor], axis=1)\n",
    "    return df"
   ]
  },
  {
   "cell_type": "code",
   "execution_count": 5,
   "metadata": {},
   "outputs": [
    {
     "data": {
      "text/html": [
       "<div>\n",
       "<style scoped>\n",
       "    .dataframe tbody tr th:only-of-type {\n",
       "        vertical-align: middle;\n",
       "    }\n",
       "\n",
       "    .dataframe tbody tr th {\n",
       "        vertical-align: top;\n",
       "    }\n",
       "\n",
       "    .dataframe thead th {\n",
       "        text-align: right;\n",
       "    }\n",
       "</style>\n",
       "<table border=\"1\" class=\"dataframe\">\n",
       "  <thead>\n",
       "    <tr style=\"text-align: right;\">\n",
       "      <th></th>\n",
       "      <th>LotFrontage</th>\n",
       "      <th>LotArea</th>\n",
       "      <th>OverallQual</th>\n",
       "      <th>OverallCond</th>\n",
       "      <th>YearBuilt</th>\n",
       "      <th>YearRemodAdd</th>\n",
       "      <th>MasVnrArea</th>\n",
       "      <th>BsmtFinSF1</th>\n",
       "      <th>BsmtFinSF2</th>\n",
       "      <th>BsmtUnfSF</th>\n",
       "      <th>...</th>\n",
       "      <th>GarageType</th>\n",
       "      <th>GarageFinish</th>\n",
       "      <th>GarageQual</th>\n",
       "      <th>GarageCond</th>\n",
       "      <th>PavedDrive</th>\n",
       "      <th>PoolQC</th>\n",
       "      <th>Fence</th>\n",
       "      <th>MiscFeature</th>\n",
       "      <th>SaleType</th>\n",
       "      <th>SaleCondition</th>\n",
       "    </tr>\n",
       "  </thead>\n",
       "  <tbody>\n",
       "    <tr>\n",
       "      <th>0</th>\n",
       "      <td>65.0</td>\n",
       "      <td>8450</td>\n",
       "      <td>7</td>\n",
       "      <td>5</td>\n",
       "      <td>2003</td>\n",
       "      <td>2003</td>\n",
       "      <td>196.0</td>\n",
       "      <td>706</td>\n",
       "      <td>0</td>\n",
       "      <td>150</td>\n",
       "      <td>...</td>\n",
       "      <td>0</td>\n",
       "      <td>0</td>\n",
       "      <td>0</td>\n",
       "      <td>0</td>\n",
       "      <td>0</td>\n",
       "      <td>-1</td>\n",
       "      <td>-1</td>\n",
       "      <td>-1</td>\n",
       "      <td>0</td>\n",
       "      <td>0</td>\n",
       "    </tr>\n",
       "    <tr>\n",
       "      <th>1</th>\n",
       "      <td>80.0</td>\n",
       "      <td>9600</td>\n",
       "      <td>6</td>\n",
       "      <td>8</td>\n",
       "      <td>1976</td>\n",
       "      <td>1976</td>\n",
       "      <td>0.0</td>\n",
       "      <td>978</td>\n",
       "      <td>0</td>\n",
       "      <td>284</td>\n",
       "      <td>...</td>\n",
       "      <td>0</td>\n",
       "      <td>0</td>\n",
       "      <td>0</td>\n",
       "      <td>0</td>\n",
       "      <td>0</td>\n",
       "      <td>-1</td>\n",
       "      <td>-1</td>\n",
       "      <td>-1</td>\n",
       "      <td>0</td>\n",
       "      <td>0</td>\n",
       "    </tr>\n",
       "    <tr>\n",
       "      <th>2</th>\n",
       "      <td>68.0</td>\n",
       "      <td>11250</td>\n",
       "      <td>7</td>\n",
       "      <td>5</td>\n",
       "      <td>2001</td>\n",
       "      <td>2002</td>\n",
       "      <td>162.0</td>\n",
       "      <td>486</td>\n",
       "      <td>0</td>\n",
       "      <td>434</td>\n",
       "      <td>...</td>\n",
       "      <td>0</td>\n",
       "      <td>0</td>\n",
       "      <td>0</td>\n",
       "      <td>0</td>\n",
       "      <td>0</td>\n",
       "      <td>-1</td>\n",
       "      <td>-1</td>\n",
       "      <td>-1</td>\n",
       "      <td>0</td>\n",
       "      <td>0</td>\n",
       "    </tr>\n",
       "    <tr>\n",
       "      <th>3</th>\n",
       "      <td>60.0</td>\n",
       "      <td>9550</td>\n",
       "      <td>7</td>\n",
       "      <td>5</td>\n",
       "      <td>1915</td>\n",
       "      <td>1970</td>\n",
       "      <td>0.0</td>\n",
       "      <td>216</td>\n",
       "      <td>0</td>\n",
       "      <td>540</td>\n",
       "      <td>...</td>\n",
       "      <td>1</td>\n",
       "      <td>1</td>\n",
       "      <td>0</td>\n",
       "      <td>0</td>\n",
       "      <td>0</td>\n",
       "      <td>-1</td>\n",
       "      <td>-1</td>\n",
       "      <td>-1</td>\n",
       "      <td>0</td>\n",
       "      <td>1</td>\n",
       "    </tr>\n",
       "    <tr>\n",
       "      <th>4</th>\n",
       "      <td>84.0</td>\n",
       "      <td>14260</td>\n",
       "      <td>8</td>\n",
       "      <td>5</td>\n",
       "      <td>2000</td>\n",
       "      <td>2000</td>\n",
       "      <td>350.0</td>\n",
       "      <td>655</td>\n",
       "      <td>0</td>\n",
       "      <td>490</td>\n",
       "      <td>...</td>\n",
       "      <td>0</td>\n",
       "      <td>0</td>\n",
       "      <td>0</td>\n",
       "      <td>0</td>\n",
       "      <td>0</td>\n",
       "      <td>-1</td>\n",
       "      <td>-1</td>\n",
       "      <td>-1</td>\n",
       "      <td>0</td>\n",
       "      <td>0</td>\n",
       "    </tr>\n",
       "  </tbody>\n",
       "</table>\n",
       "<p>5 rows × 80 columns</p>\n",
       "</div>"
      ],
      "text/plain": [
       "   LotFrontage  LotArea  OverallQual  OverallCond  YearBuilt  YearRemodAdd  \\\n",
       "0         65.0     8450            7            5       2003          2003   \n",
       "1         80.0     9600            6            8       1976          1976   \n",
       "2         68.0    11250            7            5       2001          2002   \n",
       "3         60.0     9550            7            5       1915          1970   \n",
       "4         84.0    14260            8            5       2000          2000   \n",
       "\n",
       "   MasVnrArea  BsmtFinSF1  BsmtFinSF2  BsmtUnfSF  ...  GarageType  \\\n",
       "0       196.0         706           0        150  ...           0   \n",
       "1         0.0         978           0        284  ...           0   \n",
       "2       162.0         486           0        434  ...           0   \n",
       "3         0.0         216           0        540  ...           1   \n",
       "4       350.0         655           0        490  ...           0   \n",
       "\n",
       "   GarageFinish  GarageQual  GarageCond  PavedDrive  PoolQC  Fence  \\\n",
       "0             0           0           0           0      -1     -1   \n",
       "1             0           0           0           0      -1     -1   \n",
       "2             0           0           0           0      -1     -1   \n",
       "3             1           0           0           0      -1     -1   \n",
       "4             0           0           0           0      -1     -1   \n",
       "\n",
       "   MiscFeature  SaleType  SaleCondition  \n",
       "0           -1         0              0  \n",
       "1           -1         0              0  \n",
       "2           -1         0              0  \n",
       "3           -1         0              1  \n",
       "4           -1         0              0  \n",
       "\n",
       "[5 rows x 80 columns]"
      ]
     },
     "execution_count": 5,
     "metadata": {},
     "output_type": "execute_result"
    }
   ],
   "source": [
    "train = data_eng(train)\n",
    "train.head()"
   ]
  },
  {
   "cell_type": "markdown",
   "metadata": {},
   "source": [
    "Our next goal was to remove all nan values. Our first thought was to simply drop all rows with a nan value. Note how much data was lost."
   ]
  },
  {
   "cell_type": "code",
   "execution_count": 6,
   "metadata": {},
   "outputs": [
    {
     "name": "stdout",
     "output_type": "stream",
     "text": [
      "Before dropna(): 1460\n",
      "After dropna(): 1121\n"
     ]
    }
   ],
   "source": [
    "print('Before dropna():', len(train.index))\n",
    "X = train.dropna()\n",
    "print('After dropna():', len(X.index))"
   ]
  },
  {
   "cell_type": "markdown",
   "metadata": {},
   "source": [
    "We then applied a min max type scaler to the dataframe:"
   ]
  },
  {
   "cell_type": "code",
   "execution_count": 7,
   "metadata": {},
   "outputs": [],
   "source": [
    "train = train.dropna()\n",
    "X = train.drop(['SalePrice'], axis=1)\n",
    "y = np.log(train.SalePrice)\n",
    "train_X, val_X, train_y, val_y = train_test_split(X, y, random_state=1)"
   ]
  },
  {
   "cell_type": "markdown",
   "metadata": {},
   "source": [
    "## Model Selection.1\n",
    "We selected three algorithms models:\n",
    "1. Linear Regression\n",
    "2. Neural Net\n",
    "3. Gradient boosting\n"
   ]
  },
  {
   "cell_type": "code",
   "execution_count": 8,
   "metadata": {},
   "outputs": [],
   "source": [
    "rmse1 = {'Linear Regression': 0, 'Neural Net': 0, 'Gradient Boosting': 0}"
   ]
  },
  {
   "cell_type": "markdown",
   "metadata": {},
   "source": [
    "#### Linear Regression.1\n",
    "Linear regression was selected because it was simple to implement, and would give us a good idea of effect of the various choices we made during preprocessing."
   ]
  },
  {
   "cell_type": "code",
   "execution_count": 9,
   "metadata": {},
   "outputs": [
    {
     "name": "stdout",
     "output_type": "stream",
     "text": [
      "0.14389442095424468\n"
     ]
    }
   ],
   "source": [
    "lm = LinearRegression()\n",
    "lm.fit(train_X, train_y)\n",
    "predictions = lm.predict(val_X)\n",
    "rmse_lr = np.sqrt(metrics.mean_squared_error(val_y, predictions))\n",
    "rmse1['Linear Regression'] = rmse_lr\n",
    "print(rmse_lr)"
   ]
  },
  {
   "cell_type": "markdown",
   "metadata": {},
   "source": [
    "#### Neural Net.1\n",
    "Though keras was used to construct the neural network, we still had access to tune many of its hyperparameters. We choose to leave the learning rate at its default value .001. The NN was fully connected at every layer. The 'relu' activation function was used in every neuron, which outputs a value of 0 for all negative z valuse and scales linearly with positive z values. Besides the scaling of the data, regularization was applied in the form of shuffling the order of the input data every epoch to make sure the model did not use the order of the data as a prediction variable. The hidden neurons in each layer and the number of epochs differed from iteration 1 to iteration 2, and can be seen in the call to the keras Dense function when compiling each model. The scaling of the data resulted in the NN reqiring much less computational power to reach the local optimum in both iterations which we saw as a positive impact overall. \n",
    "\n",
    "The neural net required that the data be normalized along a simple min max scale. This same scale was applied to the other models during this step with mixed results, so they are not shown here. "
   ]
  },
  {
   "cell_type": "code",
   "execution_count": 10,
   "metadata": {},
   "outputs": [],
   "source": [
    "df = pd.read_csv(\"./data/train.csv\")\n",
    "df_factor = df[factor_columns]\n",
    "df_factor = df_factor.apply(lambda x: pd.factorize(x)[0])\n",
    "df = df.drop(columns = factor_columns, axis = 1)\n",
    "df = df.drop(columns = ['Id'])\n",
    "df = pd.concat([df, df_factor], axis = 1)\n",
    "# Either drop all the remaining rows that have nan in a continuous\n",
    "# feature column or replace the nans with the mean of that column.\n",
    "df = df.dropna(axis = 0)\n",
    "scale = True\n",
    "target = 'SalePrice'\n",
    "target_col = df.columns.get_loc(target)\n",
    "if scale:\n",
    "    scaler = MinMaxScaler(feature_range=(0,1))\n",
    "    warnings.filterwarnings(\"ignore\")\n",
    "    scaled_df = scaler.fit_transform(df)\n",
    "    multiplied_by = scaler.scale_[target_col]\n",
    "    added = scaler.min_[target_col]\n",
    "    df = pd.DataFrame(scaled_df, columns = df.columns.values)"
   ]
  },
  {
   "cell_type": "code",
   "execution_count": 11,
   "metadata": {
    "scrolled": true
   },
   "outputs": [
    {
     "name": "stdout",
     "output_type": "stream",
     "text": [
      "WARNING:tensorflow:Layer dense is casting an input tensor from dtype float64 to the layer's dtype of float32, which is new behavior in TensorFlow 2.  The layer has dtype float32 because its dtype defaults to floatx.\n",
      "\n",
      "If you intended to run this layer in float32, you can safely ignore this warning. If in doubt, this warning is likely only an issue if you are porting a TensorFlow 1.X model to TensorFlow 2.\n",
      "\n",
      "To change all layers to have dtype float64 by default, call `tf.keras.backend.set_floatx('float64')`. To change just this layer, pass dtype='float64' to the layer constructor. If you are the author of this layer, you can disable autocasting by passing autocast=False to the base Layer constructor.\n",
      "\n"
     ]
    },
    {
     "data": {
      "text/plain": [
       "<tensorflow.python.keras.callbacks.History at 0x7fdea36098d0>"
      ]
     },
     "execution_count": 11,
     "metadata": {},
     "output_type": "execute_result"
    }
   ],
   "source": [
    "model = Sequential()\n",
    "model.add(Dense(400, activation = 'relu'))\n",
    "model.add(Dense(800, activation = 'relu'))\n",
    "model.add(Dense(400, activation = 'relu'))\n",
    "model.add(Dense(1))\n",
    "model.compile(loss = 'mean_squared_error', optimizer = 'adam')\n",
    "model.fit(train_X, train_y, epochs = 250, shuffle = True, verbose = 0)\n"
   ]
  },
  {
   "cell_type": "code",
   "execution_count": 12,
   "metadata": {},
   "outputs": [
    {
     "data": {
      "text/plain": [
       "<tensorflow.python.keras.callbacks.History at 0x7fde9023fe90>"
      ]
     },
     "execution_count": 12,
     "metadata": {},
     "output_type": "execute_result"
    }
   ],
   "source": [
    "X = df.drop(target, axis = 1).values\n",
    "Y = df[[target]].values\n",
    "train_x, val_x, train_y, val_y = train_test_split(X, Y, random_state = 0)\n",
    "model.fit(train_x, train_y, epochs = 300, shuffle = True, verbose = 0)"
   ]
  },
  {
   "cell_type": "code",
   "execution_count": 13,
   "metadata": {},
   "outputs": [
    {
     "name": "stdout",
     "output_type": "stream",
     "text": [
      "0.18810316321513149\n"
     ]
    }
   ],
   "source": [
    "predictions = model.predict(val_x)\n",
    "if scale:\n",
    "    val_y -= added\n",
    "    val_y /= multiplied_by\n",
    "    predictions -= added\n",
    "    predictions /= multiplied_by\n",
    "rmse_nn = np.sqrt(metrics.mean_squared_error(np.log(val_y), np.log(predictions)))\n",
    "print(rmse_nn)\n",
    "rmse1['Neural Net'] = rmse_nn"
   ]
  },
  {
   "cell_type": "markdown",
   "metadata": {},
   "source": [
    "#### Gradient Boosting.1\n",
    "Gradient boosting is a model that implements weaker machine learning algorithms (typically decision trees) into an ensemble model which reinforces parameter tuning through loss functions of the weaker models. \n",
    "\n",
    "This was chosen as an alternative to a simple decision tree algorithm, as it generally performed better through our tests. \n",
    "\n",
    "\n"
   ]
  },
  {
   "cell_type": "code",
   "execution_count": 14,
   "metadata": {},
   "outputs": [],
   "source": [
    "X = train.dropna()\n",
    "X = train.drop(['SalePrice'], axis=1)\n",
    "y = np.log(train.SalePrice)\n",
    "train_X, val_X, train_y, val_y = train_test_split(X, y, random_state=1)"
   ]
  },
  {
   "cell_type": "code",
   "execution_count": 15,
   "metadata": {},
   "outputs": [
    {
     "name": "stdout",
     "output_type": "stream",
     "text": [
      "0.1618734744367967\n"
     ]
    }
   ],
   "source": [
    "from xgboost import XGBRegressor\n",
    "xgb = XGBRegressor()\n",
    "xgb.fit(train_X, train_y)\n",
    "pred_xgb = xgb.predict(val_X)\n",
    "rmse_gb = np.sqrt(metrics.mean_squared_error(val_y, pred_xgb))\n",
    "print(rmse_gb)\n",
    "rmse1['Gradient Boosting'] = rmse_gb"
   ]
  },
  {
   "cell_type": "code",
   "execution_count": 16,
   "metadata": {
    "scrolled": true
   },
   "outputs": [
    {
     "data": {
      "text/plain": [
       "Text(0.5, 1.0, 'Iteration 1')"
      ]
     },
     "execution_count": 16,
     "metadata": {},
     "output_type": "execute_result"
    },
    {
     "data": {
      "image/png": "[encoded data removed]",
      "text/plain": [
       "<Figure size 432x288 with 1 Axes>"
      ]
     },
     "metadata": {
      "needs_background": "light"
     },
     "output_type": "display_data"
    }
   ],
   "source": [
    "plt.bar(range(len(rmse1)), list(rmse1.values()), align='center')\n",
    "plt.xticks(range(len(rmse1)), list(rmse1.keys()))\n",
    "plt.ylabel('Root Mean Square Error')\n",
    "plt.title('Iteration 1')"
   ]
  },
  {
   "cell_type": "markdown",
   "metadata": {},
   "source": [
    "Our first iteration stopped here. Overall the linear model proved to be the most accurate on the training data. "
   ]
  },
  {
   "cell_type": "markdown",
   "metadata": {},
   "source": [
    "## Iteration 2\n",
    "At this point we decided to refine our preprocessing function. Based on discussions on the Kaggle website (references [here](https://lstrln.wordpress.com/2017/10/25/predicting-house-prices-on-kaggle-a-gentle-introduction-to-data-science-part-ii/) and [here](https://www.kaggle.com/piushvaish/feature-selection-for-house-prices)), we made a function that retains most nan's based on information of the features, and factorizes ordinal and catergorical features seperately. "
   ]
  },
  {
   "cell_type": "markdown",
   "metadata": {},
   "source": [
    "### Preprocess Data.2"
   ]
  },
  {
   "cell_type": "code",
   "execution_count": 17,
   "metadata": {},
   "outputs": [],
   "source": [
    "train = pd.read_csv('./data/train.csv')\n",
    "test = pd.read_csv('./data/test.csv')"
   ]
  },
  {
   "cell_type": "code",
   "execution_count": 18,
   "metadata": {},
   "outputs": [],
   "source": [
    "def pre_process(df):\n",
    "    # replace nans\n",
    "    # all features with a defined \"na\" replaced with none\n",
    "    none = ['Alley', 'BsmtQual', 'BsmtCond', 'BsmtExposure', 'BsmtFinType1', 'BsmtFinType2',\n",
    "        'FireplaceQu', 'GarageType', 'GarageFinish', 'GarageQual', 'GarageCond', 'PoolQC',\n",
    "        'Fence', 'MiscFeature']\n",
    "    replace = df[none].fillna('None')\n",
    "    df = df.drop(none, axis=1)\n",
    "    df = pd.concat([df, replace], axis=1)\n",
    "\n",
    "    #replace continuous nans with median of row\n",
    "    r_median = ['LotFrontage', 'MasVnrArea', 'BsmtFinSF1', 'BsmtFinSF2', 'GarageArea',\n",
    "            'TotalBsmtSF', 'BsmtUnfSF']\n",
    "    replace_med = df[r_median].fillna(df[r_median].median())\n",
    "    df = df.drop(r_median, axis=1)\n",
    "    df = pd.concat([df, replace_med], axis=1)\n",
    "\n",
    "    # replace discrete caterogies with mode\n",
    "    r_mode = ['MasVnrType', 'MSZoning', 'Functional', 'Utilities', 'BsmtFullBath',\n",
    "          'BsmtHalfBath', 'Exterior1st', 'Exterior2nd', 'SaleType', 'Electrical',\n",
    "          'KitchenQual', 'GarageCars']\n",
    "    replace_mod = df[r_mode].fillna(df[r_mode].mode().iloc[0])\n",
    "    df = df.drop(r_mode, axis=1)\n",
    "    df = pd.concat([df, replace_mod], axis=1)\n",
    "\n",
    "    # replace missing garage dates with house built dates\n",
    "    replace_gar = df['GarageYrBlt'].fillna(df.YearBuilt)\n",
    "    df = df.drop('GarageYrBlt', axis=1)\n",
    "    df = pd.concat([df, replace_gar], axis=1)\n",
    "\n",
    "    # replace non-weighted categories with dummy values\n",
    "    dummies = ['MSSubClass', 'MSZoning', 'Street', 'Alley', 'LotShape', 'LandContour',\n",
    "           'Utilities', 'LotConfig', 'LandSlope', 'Neighborhood', 'Condition1',\n",
    "           'Condition2', 'BldgType', 'HouseStyle', 'RoofStyle', 'RoofMatl', 'Exterior1st',\n",
    "           'Exterior2nd', 'MasVnrType', 'Foundation', 'BsmtExposure', 'BsmtFinType1', 'Heating',\n",
    "           'BsmtFinType2', 'CentralAir', 'Electrical', 'GarageType', 'GarageFinish', 'MiscFeature',\n",
    "           'SaleType', 'SaleCondition']\n",
    "    for col in dummies:\n",
    "        replace = pd.get_dummies(df[col], prefix = col)\n",
    "        df = pd.concat([df, replace],axis=1).drop([col], axis=1)\n",
    "\n",
    "    # replace ordinals with factors\n",
    "    ordinals = ['ExterCond', 'ExterQual',  'BsmtQual', 'BsmtCond', 'HeatingQC',\n",
    "                  'KitchenQual', 'Functional', 'FireplaceQu', 'GarageQual', 'GarageCond',\n",
    "                  'PavedDrive', 'PoolQC', 'Fence']\n",
    "\n",
    "    df_factor = df[ordinals]\n",
    "    df_factor = df_factor.apply(lambda x: pd.factorize(x)[0])\n",
    "    df = df.drop(ordinals, axis=1)\n",
    "    df = pd.concat([df, df_factor], axis=1)\n",
    "\n",
    "    continious = ['LotArea', '1stFlrSF', '2ndFlrSF', 'GrLivArea', 'WoodDeckSF',\n",
    "                  'OpenPorchSF', 'EnclosedPorch', '3SsnPorch', 'ScreenPorch',\n",
    "                  'PoolArea', 'MiscVal', 'LotFrontage', 'MasVnrArea', 'BsmtFinSF1',\n",
    "                  'BsmtFinSF2', 'GarageArea', 'TotalBsmtSF', 'BsmtUnfSF']\n",
    "\n",
    "    #for col in continious:\n",
    "        #df[col] = stats.boxcox(df[col] +1 )[0]\n",
    "\n",
    "    return df\n"
   ]
  },
  {
   "cell_type": "markdown",
   "metadata": {},
   "source": [
    "We also preprocessed the training and test data as one dataframe. We did try to preprocess them seperately but overall decided that this streamlined the process more efficiently."
   ]
  },
  {
   "cell_type": "code",
   "execution_count": 19,
   "metadata": {},
   "outputs": [],
   "source": [
    "\n",
    "df = pd.concat([train, test], ignore_index=True)\n",
    "df = pre_process(df)\n",
    "\n",
    "train_p = df.loc[df['SalePrice'].notna()]\n",
    "test_p = df.loc[df['SalePrice'].isna()]\n",
    "\n",
    "X = train_p.drop(['SalePrice', 'Id'], axis=1)\n",
    "y = np.log(train.SalePrice)\n",
    "\n",
    "train_X, val_X, train_y, val_y = train_test_split(X, y, test_size = 0.25, random_state=5)\n"
   ]
  },
  {
   "cell_type": "markdown",
   "metadata": {},
   "source": [
    "## Model Selection.2"
   ]
  },
  {
   "cell_type": "code",
   "execution_count": 20,
   "metadata": {},
   "outputs": [],
   "source": [
    "rmse2 = {'Linear Regression': 0, 'Neural Net': 0, 'Gradient Boosting': 0}"
   ]
  },
  {
   "cell_type": "markdown",
   "metadata": {},
   "source": [
    "#### Linear Reggresion.1"
   ]
  },
  {
   "cell_type": "code",
   "execution_count": 21,
   "metadata": {},
   "outputs": [
    {
     "name": "stdout",
     "output_type": "stream",
     "text": [
      "0.12252594017187524\n"
     ]
    }
   ],
   "source": [
    "lr = LinearRegression()\n",
    "lr.fit(train_X, train_y)\n",
    "predictions = lr.predict(val_X)\n",
    "rmse_lr2 = np.sqrt(metrics.mean_squared_error(val_y, predictions))\n",
    "rmse2['Linear Regression'] = rmse_lr2\n",
    "print(rmse_lr2)"
   ]
  },
  {
   "cell_type": "markdown",
   "metadata": {},
   "source": [
    "#### Neural Net.1"
   ]
  },
  {
   "cell_type": "code",
   "execution_count": 22,
   "metadata": {},
   "outputs": [],
   "source": [
    "y_df = pd.DataFrame(y)"
   ]
  },
  {
   "cell_type": "code",
   "execution_count": 23,
   "metadata": {},
   "outputs": [],
   "source": [
    "scale = True\n",
    "if scale:\n",
    "    scaler = MinMaxScaler(feature_range=(0,1))\n",
    "    warnings.filterwarnings(\"ignore\")\n",
    "    X_final = scaler.fit_transform(X)\n",
    "    y_final = scaler.fit_transform(y_df)\n",
    "    multiplied_by = scaler.scale_[0]\n",
    "    added = scaler.min_[0]\n",
    "train_X, val_X, train_y, val_y = train_test_split(X_final, y_final, random_state = 1)\n"
   ]
  },
  {
   "cell_type": "code",
   "execution_count": 24,
   "metadata": {},
   "outputs": [],
   "source": [
    "model = Sequential()\n",
    "model.add(Dense(300, activation = 'relu'))\n",
    "model.add(Dense(500, activation = 'relu'))\n",
    "model.add(Dense(300, activation = 'relu'))\n",
    "model.add(Dense(1))\n",
    "model.compile(loss = 'mean_squared_error', optimizer = 'adam')"
   ]
  },
  {
   "cell_type": "code",
   "execution_count": 25,
   "metadata": {},
   "outputs": [
    {
     "data": {
      "text/plain": [
       "<tensorflow.python.keras.callbacks.History at 0x7fde4c66ad90>"
      ]
     },
     "execution_count": 25,
     "metadata": {},
     "output_type": "execute_result"
    }
   ],
   "source": [
    "model.fit(train_X, train_y, epochs = 275, shuffle = True, verbose = 0)"
   ]
  },
  {
   "cell_type": "code",
   "execution_count": 26,
   "metadata": {},
   "outputs": [],
   "source": [
    "predictions = model.predict(val_X)"
   ]
  },
  {
   "cell_type": "code",
   "execution_count": 27,
   "metadata": {},
   "outputs": [],
   "source": [
    "if scale:\n",
    "    val_y -= added\n",
    "    val_y /= multiplied_by\n",
    "    predictions -= added\n",
    "    predictions /= multiplied_by"
   ]
  },
  {
   "cell_type": "code",
   "execution_count": 28,
   "metadata": {},
   "outputs": [],
   "source": [
    "rmse_nn2 = np.sqrt(metrics.mean_squared_error(val_y, predictions))\n",
    "rmse2['Neural Net'] = rmse_nn2"
   ]
  },
  {
   "cell_type": "markdown",
   "metadata": {},
   "source": [
    "#### Gradient Boosting.2\n",
    "\n",
    "Note that this iteration shows some additional parameter tuning for the XGB Regressor model. \n",
    "\n",
    "n_estimators describe the number of iterations of the modeling cycle. A value that is to low or to high will cause underfitting or overfitting, respectively. \n",
    "\n",
    "Learning rate reduces the amount of weight given to each weaker model, to avoid overfitting. \n",
    "\n",
    "n_jobs specifies how many parallel threads to run, which only affects computational performance. \n",
    "\n",
    "Early stoping rounds helps prevent overfitting by stopping once a certain validation score is reached. This is provided by the eval set. \n",
    "\n"
   ]
  },
  {
   "cell_type": "code",
   "execution_count": 29,
   "metadata": {},
   "outputs": [],
   "source": [
    "# data needs to be preprocessed again to avoid jupyter race conditions\n",
    "\n",
    "df = pd.concat([train, test], ignore_index=True)\n",
    "df = pre_process(df)\n",
    "\n",
    "train_p = df.loc[df['SalePrice'].notna()]\n",
    "test_p = df.loc[df['SalePrice'].isna()]\n",
    "\n",
    "X = train_p.drop(['SalePrice', 'Id'], axis=1)\n",
    "y = np.log(train.SalePrice)\n",
    "\n",
    "train_X, val_X, train_y, val_y = train_test_split(X, y, test_size = 0.25, random_state=5)\n"
   ]
  },
  {
   "cell_type": "code",
   "execution_count": 30,
   "metadata": {},
   "outputs": [
    {
     "name": "stdout",
     "output_type": "stream",
     "text": [
      "0.1260685815178579\n"
     ]
    }
   ],
   "source": [
    "xgb = XGBRegressor(n_estimators=500, learning_rate=0.3, n_jobs=4)\n",
    "xgb.fit(train_X, train_y, early_stopping_rounds=5,\n",
    "        eval_set = [(val_X, val_y)],\n",
    "        verbose=False)\n",
    "\n",
    "pred_xgb = xgb.predict(val_X)\n",
    "rmse_xgb2 = np.sqrt(metrics.mean_squared_error(val_y, pred_xgb))\n",
    "rmse2['Gradient Boosting'] = rmse_xgb2\n",
    "print(rmse_xgb2)"
   ]
  },
  {
   "cell_type": "code",
   "execution_count": 31,
   "metadata": {},
   "outputs": [
    {
     "data": {
      "text/plain": [
       "Text(0.5, 1.0, 'Iteration 2')"
      ]
     },
     "execution_count": 31,
     "metadata": {},
     "output_type": "execute_result"
    },
    {
     "data": {
      "image/png": "[encoded data removed]",
      "text/plain": [
       "<Figure size 432x288 with 1 Axes>"
      ]
     },
     "metadata": {
      "needs_background": "light"
     },
     "output_type": "display_data"
    }
   ],
   "source": [
    "plt.bar(range(len(rmse2)), list(rmse2.values()), align='center')\n",
    "plt.xticks(range(len(rmse2)), list(rmse2.keys()))\n",
    "plt.ylim(top=.2)\n",
    "plt.ylabel('Root Mean Square Error')\n",
    "plt.title('Iteration 2')"
   ]
  },
  {
   "cell_type": "code",
   "execution_count": 32,
   "metadata": {},
   "outputs": [
    {
     "data": {
      "text/plain": [
       "Text(0.5, 1.0, 'Iterations')"
      ]
     },
     "execution_count": 32,
     "metadata": {},
     "output_type": "execute_result"
    },
    {
     "data": {
      "image/png": "[encoded data removed]",
      "text/plain": [
       "<Figure size 432x288 with 1 Axes>"
      ]
     },
     "metadata": {
      "needs_background": "light"
     },
     "output_type": "display_data"
    }
   ],
   "source": [
    "barWidth = 0.25\n",
    "bars1 = rmse1.values()\n",
    "bars2 = rmse2.values()\n",
    "r1 = np.arange(len(bars1))\n",
    "r2 = [x + barWidth for x in r1]\n",
    "\n",
    "plt.bar(r1, bars1, color='red', width=barWidth, edgecolor='white', label='Iteration 1')\n",
    "plt.bar(r2, bars2, color='blue', width=barWidth, edgecolor='white', label='Iteration 2')\n",
    "\n",
    "plt.xlabel('Model', fontweight = 'bold')\n",
    "plt.xticks([r + barWidth/2 for r in range(len(bars1))], ['Linear Regression', 'Neural Net', 'Gradient Boosting'])\n",
    "plt.legend()\n",
    "plt.title('Iterations')"
   ]
  },
  {
   "cell_type": "markdown",
   "metadata": {},
   "source": [
    "Overall we can see that our new preprocessing function reduced our RMSE for all models, with linear regression still being the most effiecient model. With this knowledge, we decided to refine our models by incorporating feature selection."
   ]
  },
  {
   "cell_type": "markdown",
   "metadata": {},
   "source": [
    "### Feature Selection\n",
    "Feature selection was based on SelectKBest using regression. Once all features were ranked by importance, we attempted to select the top n best features to fit to our model. This was repeated until all features had been selected, with predictions and RMSE calculated for each iteration. The minimum RMSE from all predictions was selected as the \"best amount\" of features.   \n",
    "Feature selection [reference](https://towardsdatascience.com/feature-selection-techniques-in-machine-learning-with-python-f24e7da3f36e), although this is a classification example and not regression. "
   ]
  },
  {
   "cell_type": "code",
   "execution_count": 78,
   "metadata": {
    "scrolled": true
   },
   "outputs": [
    {
     "name": "stdout",
     "output_type": "stream",
     "text": [
      "Top 10 Features:\n",
      "\n",
      "           Feature        Score\n",
      "         GrLivArea  2930.795149\n",
      "       GarageYrBlt  1408.119051\n",
      "        WoodDeckSF  1258.349043\n",
      "       MSZoning_RM  1071.733084\n",
      " Foundation_CBlock   873.710639\n",
      "          1stFlrSF   807.334244\n",
      "      YearRemodAdd   798.099817\n",
      "        GarageArea   764.780024\n",
      "     MSSubClass_30   696.939475\n",
      "       TotalBsmtSF   685.840903\n"
     ]
    }
   ],
   "source": [
    "from sklearn.feature_selection import SelectKBest, f_regression\n",
    "selector = SelectKBest(f_regression, k='all')\n",
    "fit = selector.fit(X, y)\n",
    "scores = pd.DataFrame(fit.scores_)\n",
    "columns = pd.DataFrame(train_X.columns)\n",
    "featurescores = pd.concat([columns,scores], axis=1)\n",
    "featurescores.columns = ['Feature','Score']\n",
    "print('Top 10 Features:\\n')\n",
    "print(featurescores.nlargest(10,'Score').to_string(index=False)) "
   ]
  },
  {
   "cell_type": "code",
   "execution_count": 36,
   "metadata": {},
   "outputs": [],
   "source": [
    "y = np.log(train.SalePrice)\n",
    "lin_scores = {}\n",
    "for n in range(1,len(featureScores)):\n",
    "    features = featureScores.nlargest(n,'Score').Feature\n",
    "    X_feat = X[features]\n",
    "    train_X, val_X, train_y, val_y = train_test_split(X_feat, y, test_size = 0.25, random_state=5)\n",
    "    lr = LinearRegression()\n",
    "    lr.fit(train_X, train_y)\n",
    "    predictions = lr.predict(val_X)\n",
    "    lin_scores[np.sqrt(metrics.mean_squared_error(val_y, predictions))] = n\n",
    "\n"
   ]
  },
  {
   "cell_type": "code",
   "execution_count": 71,
   "metadata": {
    "scrolled": true
   },
   "outputs": [
    {
     "name": "stdout",
     "output_type": "stream",
     "text": [
      "Minimum Linear Regression RMSE with Feature Select\n",
      "Number of features: 259\n"
     ]
    },
    {
     "data": {
      "text/plain": [
       "0.12234209507422422"
      ]
     },
     "execution_count": 71,
     "metadata": {},
     "output_type": "execute_result"
    }
   ],
   "source": [
    "print(\"Minimum Linear Regression RMSE with Feature Select\")\n",
    "print('Number of features:', lin_scores[min(lin_scores.keys())])\n",
    "min(lin_scores.keys())"
   ]
  },
  {
   "cell_type": "markdown",
   "metadata": {},
   "source": [
    "This process was repeated for the gradient boost as well. "
   ]
  },
  {
   "cell_type": "code",
   "execution_count": 34,
   "metadata": {},
   "outputs": [],
   "source": [
    "y = np.log(train.SalePrice)\n",
    "xgb_scores = {}\n",
    "for n in range(1,len(featureScores)):\n",
    "    features = featureScores.nlargest(n,'Score').Feature\n",
    "    X_feat = X[features]\n",
    "    train_X, val_X, train_y, val_y = train_test_split(X_feat, y, test_size = 0.25, random_state=5)\n",
    "    xgb2 = XGBRegressor(n_estimators=500, learning_rate=0.3, n_jobs=4)\n",
    "    xgb2.fit(train_X, train_y, early_stopping_rounds=5,\n",
    "        eval_set = [(val_X, val_y)],\n",
    "        verbose=False)\n",
    "    pred_xgb2 = xgb2.predict(val_X)\n",
    "    xgb_scores[np.sqrt(metrics.mean_squared_error(val_y, pred_xgb2))] = n"
   ]
  },
  {
   "cell_type": "code",
   "execution_count": 70,
   "metadata": {},
   "outputs": [
    {
     "name": "stdout",
     "output_type": "stream",
     "text": [
      "Minimum Gradient Boost RMSE with Feature Select:\n",
      "\n",
      "Number of features: 237\n",
      "RMSE: 0.1196616728027599\n"
     ]
    }
   ],
   "source": [
    "print(\"Minimum Gradient Boost RMSE with Feature Select:\\n\")\n",
    "print('Number of features:', xgb_scores[min(xgb_scores.keys())])\n",
    "print('RMSE:', min(xgb_scores.keys()))"
   ]
  },
  {
   "cell_type": "markdown",
   "metadata": {},
   "source": [
    "When feature selection was applied, the gradient boosting model performed the best out of all our models."
   ]
  },
  {
   "cell_type": "markdown",
   "metadata": {},
   "source": [
    "## Evaluation"
   ]
  },
  {
   "cell_type": "markdown",
   "metadata": {},
   "source": [
    "In our final step, we trained the gradient boosting model using the entire training dataframe, and used the testing data to predict our final results. \n",
    "\n",
    "This was done for a few of our models. Shown below is the Gradient Boosting algorithm with the optimum number of features."
   ]
  },
  {
   "cell_type": "code",
   "execution_count": 72,
   "metadata": {},
   "outputs": [],
   "source": [
    "no_features = xgb_scores[min(xgb_scores.keys())]\n",
    "features = featureScores.nlargest(no_features,'Score').Feature\n",
    "X_train_fs = X[features]\n",
    "X_test = test_p.drop(['SalePrice', 'Id'], axis=1)\n",
    "X_test_fs = X_test[features]\n",
    "xgb2 = XGBRegressor(n_estimators=500, learning_rate=0.3, n_jobs=4)\n",
    "xgb2.fit(X_train_fs, y, verbose=False)\n",
    "final = xgb2.predict(X_test_fs)\n",
    "prices_f = np.exp(final)"
   ]
  },
  {
   "cell_type": "code",
   "execution_count": 73,
   "metadata": {},
   "outputs": [],
   "source": [
    "df_f = pd.DataFrame({'Id': test.Id, 'SalePrice': prices_f})\n",
    "df_f.to_csv(\"./submission.csv\", index=False)"
   ]
  },
  {
   "attachments": {
    "image.png": {
     "image/png": "[encoded data removed]"
    }
   },
   "cell_type": "markdown",
   "metadata": {},
   "source": [
    "We made a variety of submissions to the Kaggle contest to get an idea of how our model performed with the testing data.\n",
    "\n",
    "![image.png](attachment:image.png)\n",
    "\n",
    "As predicted, gradient boosting with feature selection performed the best."
   ]
  },
  {
   "cell_type": "markdown",
   "metadata": {},
   "source": [
    "## Conclusions\n",
    "During this project we realized that picking and tuning one single model does not always result in the most optimal solutions.  Many models must be considered and tested to see which models perform the best under similar conditions.  This is the data science process of \"iteration\".  Success comes not from picking the most optimal hyper-parameters for a single model, but how fast one can go through the entire process of feature selection, model selection, training, and hyperparameter tuning over and over again.  Each of these steps will have varying effects on which models perform best, computational power needed, and time needed to achieve predictions.  In this particular project, we were able to get the lowest error by using a gradient boosting model with a unique feature selection method of feature scoring through the sklean feature selection library.  It is important to note that the error we receive on our validation data set is different from the error on the kaggle site.  It is hard to know how well your data will generalize to data outside the available training data.  For this reason you must make sure not to overfit your models as the optimal error will not always lead to the optimal generalization.\n",
    "  \n"
   ]
  },
  {
   "cell_type": "code",
   "execution_count": null,
   "metadata": {},
   "outputs": [],
   "source": []
  }
 ],
 "metadata": {
  "kernelspec": {
   "display_name": "Python 3",
   "language": "python",
   "name": "python3"
  },
  "language_info": {
   "codemirror_mode": {
    "name": "ipython",
    "version": 3
   },
   "file_extension": ".py",
   "mimetype": "text/x-python",
   "name": "python",
   "nbconvert_exporter": "python",
   "pygments_lexer": "ipython3",
   "version": "3.8.1"
  }
 },
 "nbformat": 4,
 "nbformat_minor": 4
}
