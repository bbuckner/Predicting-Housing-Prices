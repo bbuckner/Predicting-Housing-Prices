{
 "cells": [
  {
   "cell_type": "code",
   "execution_count": 1,
   "metadata": {},
   "outputs": [],
   "source": [
    "import numpy as np\n",
    "import pandas as pd\n",
    "from sklearn.preprocessing import MinMaxScaler\n",
    "from sklearn.model_selection import train_test_split\n",
    "from sklearn import metrics\n",
    "import tensorflow as tf\n",
    "from tensorflow import keras\n",
    "from keras import Sequential\n",
    "from keras.layers import Dense\n",
    "import warnings\n"
   ]
  },
  {
   "cell_type": "code",
   "execution_count": 2,
   "metadata": {},
   "outputs": [],
   "source": [
    "train = pd.read_csv(\"train.csv\")\n",
    "test = pd.read_csv(\"test.csv\")"
   ]
  },
  {
   "cell_type": "code",
   "execution_count": 3,
   "metadata": {},
   "outputs": [],
   "source": [
    "X = pd.concat([train.drop('SalePrice', 1), test])\n",
    "# code to get test X\n",
    "# X[X['Id'] > 1460]"
   ]
  },
  {
   "cell_type": "code",
   "execution_count": 4,
   "metadata": {},
   "outputs": [
    {
     "name": "stdout",
     "output_type": "stream",
     "text": [
      "PoolQC          2909\n",
      "MiscFeature     2814\n",
      "Alley           2721\n",
      "Fence           2348\n",
      "FireplaceQu     1420\n",
      "LotFrontage      486\n",
      "GarageFinish     159\n",
      "GarageYrBlt      159\n",
      "GarageQual       159\n",
      "GarageCond       159\n",
      "GarageType       157\n",
      "BsmtExposure      82\n",
      "BsmtCond          82\n",
      "BsmtQual          81\n",
      "BsmtFinType2      80\n",
      "BsmtFinType1      79\n",
      "MasVnrType        24\n",
      "MasVnrArea        23\n",
      "MSZoning           4\n",
      "BsmtFullBath       2\n",
      "BsmtHalfBath       2\n",
      "Utilities          2\n",
      "Functional         2\n",
      "Exterior2nd        1\n",
      "Exterior1st        1\n",
      "SaleType           1\n",
      "BsmtFinSF1         1\n",
      "BsmtFinSF2         1\n",
      "BsmtUnfSF          1\n",
      "Electrical         1\n",
      "KitchenQual        1\n",
      "GarageCars         1\n",
      "GarageArea         1\n",
      "TotalBsmtSF        1\n",
      "dtype: int64\n"
     ]
    }
   ],
   "source": [
    "def count_missing(data):\n",
    "    null_cols = data.columns[data.isnull().any(axis=0)]\n",
    "    X_null = data[null_cols].isnull().sum()\n",
    "    X_null = X_null.sort_values(ascending=False)\n",
    "    print(X_null)\n",
    "# https://lstrln.wordpress.com/2017/10/25/predicting-house-prices-on-kaggle-a-gentle-introduction-to-data-science-part-ii/\n",
    "count_missing(X)"
   ]
  },
  {
   "cell_type": "code",
   "execution_count": 5,
   "metadata": {},
   "outputs": [
    {
     "name": "stdout",
     "output_type": "stream",
     "text": [
      "LotFrontage     486\n",
      "GarageYrBlt     159\n",
      "MasVnrType       24\n",
      "MasVnrArea       23\n",
      "MSZoning          4\n",
      "Functional        2\n",
      "Utilities         2\n",
      "BsmtHalfBath      2\n",
      "BsmtFullBath      2\n",
      "BsmtFinSF1        1\n",
      "Exterior1st       1\n",
      "Exterior2nd       1\n",
      "SaleType          1\n",
      "BsmtFinSF2        1\n",
      "GarageArea        1\n",
      "TotalBsmtSF       1\n",
      "Electrical        1\n",
      "KitchenQual       1\n",
      "GarageCars        1\n",
      "BsmtUnfSF         1\n",
      "dtype: int64\n"
     ]
    }
   ],
   "source": [
    "# replace with none\n",
    "none = ['Alley', 'BsmtQual', 'BsmtCond', 'BsmtExposure', 'BsmtFinType1', 'BsmtFinType2',\n",
    "        'FireplaceQu', 'GarageType', 'GarageFinish', 'GarageQual', 'GarageCond', 'PoolQC',\n",
    "        'Fence', 'MiscFeature']\n",
    "\n",
    "replace = X[none].fillna('None')\n",
    "X = X.drop(none, axis=1)\n",
    "X = pd.concat([X, replace], axis=1)\n",
    "count_missing(X)"
   ]
  },
  {
   "cell_type": "code",
   "execution_count": 6,
   "metadata": {},
   "outputs": [
    {
     "name": "stdout",
     "output_type": "stream",
     "text": [
      "GarageYrBlt     159\n",
      "MasVnrType       24\n",
      "MSZoning          4\n",
      "Functional        2\n",
      "BsmtHalfBath      2\n",
      "BsmtFullBath      2\n",
      "Utilities         2\n",
      "SaleType          1\n",
      "GarageCars        1\n",
      "KitchenQual       1\n",
      "Electrical        1\n",
      "Exterior2nd       1\n",
      "Exterior1st       1\n",
      "dtype: int64\n"
     ]
    }
   ],
   "source": [
    "# replace continious na's with median\n",
    "r_median = ['LotFrontage', 'MasVnrArea', 'BsmtFinSF1', 'BsmtFinSF2', 'GarageArea',\n",
    "            'TotalBsmtSF', 'BsmtUnfSF']\n",
    "\n",
    "replace_med = X[r_median].fillna(X[r_median].median())\n",
    "X = X.drop(r_median, axis=1)\n",
    "X = pd.concat([X, replace_med], axis=1)\n",
    "count_missing(X)"
   ]
  },
  {
   "cell_type": "code",
   "execution_count": 7,
   "metadata": {},
   "outputs": [
    {
     "name": "stdout",
     "output_type": "stream",
     "text": [
      "GarageYrBlt    159\n",
      "dtype: int64\n"
     ]
    }
   ],
   "source": [
    "# replace factored na's with mode\n",
    "r_mode = ['MasVnrType', 'MSZoning', 'Functional', 'Utilities', 'BsmtFullBath',\n",
    "          'BsmtHalfBath', 'Exterior1st', 'Exterior2nd', 'SaleType', 'Electrical',\n",
    "          'KitchenQual', 'GarageCars']\n",
    "replace_mod = X[r_mode].fillna(X[r_mode].mode().iloc[0])\n",
    "X = X.drop(r_mode, axis=1)\n",
    "X = pd.concat([X, replace_mod], axis=1)\n",
    "count_missing(X)"
   ]
  },
  {
   "cell_type": "code",
   "execution_count": 8,
   "metadata": {},
   "outputs": [
    {
     "name": "stdout",
     "output_type": "stream",
     "text": [
      "Series([], dtype: float64)\n"
     ]
    }
   ],
   "source": [
    "replace_gar = X['GarageYrBlt'].fillna(X.YearBuilt)\n",
    "X = X.drop('GarageYrBlt', axis=1)\n",
    "X = pd.concat([X, replace_gar], axis=1)\n",
    "count_missing(X)"
   ]
  },
  {
   "cell_type": "code",
   "execution_count": 9,
   "metadata": {},
   "outputs": [],
   "source": [
    "def dummy(df, col):\n",
    "    replace = pd.get_dummies(df[col], prefix = col)\n",
    "    df = pd.concat([df, replace],axis=1).drop([col], axis=1)\n",
    "    return df\n",
    "\n",
    "def data_eng(df, factor_columns):\n",
    "    df_factor = df[factor_columns]\n",
    "    df_factor = df_factor.apply(lambda x: pd.factorize(x)[0])\n",
    "    df = df.drop(factor_columns, axis=1)\n",
    "    df = pd.concat([df, df_factor], axis=1)\n",
    "    return df"
   ]
  },
  {
   "cell_type": "code",
   "execution_count": 10,
   "metadata": {},
   "outputs": [],
   "source": [
    "#pd.get_dummies(X['MSSubClass'], prefix='MS', drop_first=True)\n",
    "dummies = ['MSSubClass', 'MSZoning', 'Street', 'Alley', 'LotShape', 'LandContour',\n",
    "           'Utilities', 'LotConfig', 'LandSlope', 'Neighborhood', 'Condition1',\n",
    "           'Condition2', 'BldgType', 'HouseStyle', 'RoofStyle', 'RoofMatl', 'Exterior1st',\n",
    "           'Exterior2nd', 'MasVnrType', 'Foundation', 'BsmtExposure', 'BsmtFinType1', 'Heating',\n",
    "           'BsmtFinType2', 'CentralAir', 'Electrical', 'GarageType', 'GarageFinish', 'MiscFeature',\n",
    "           'SaleType', 'SaleCondition']\n",
    "\n",
    "ordinals = ['ExterCond', 'ExterQual',  'BsmtQual', 'BsmtCond', 'HeatingQC',\n",
    "            'KitchenQual', 'Functional', 'FireplaceQu', 'GarageQual', 'GarageCond',\n",
    "            'PavedDrive', 'PoolQC', 'Fence']"
   ]
  },
  {
   "cell_type": "code",
   "execution_count": 11,
   "metadata": {},
   "outputs": [],
   "source": [
    "for col in dummies:\n",
    "    X = dummy(X, col)"
   ]
  },
  {
   "cell_type": "code",
   "execution_count": 12,
   "metadata": {},
   "outputs": [],
   "source": [
    "X = data_eng(X, ordinals)\n",
    "test_final = X[X['Id'] > 1460]\n",
    "X_final = X[X['Id'] < 1461].drop(['Id'], axis=1)\n",
    "y = np.log(train.SalePrice) \n",
    "y = pd.DataFrame(y)\n",
    "scale = True\n",
    "if scale:\n",
    "    scaler = MinMaxScaler(feature_range=(0,1))\n",
    "    warnings.filterwarnings(\"ignore\")\n",
    "    X_final = scaler.fit_transform(X_final)\n",
    "    y = scaler.fit_transform(y)\n",
    "    multiplied_by = scaler.scale_[0]\n",
    "    added = scaler.min_[0]\n",
    "train_X, val_X, train_y, val_y = train_test_split(X_final, y, random_state = 1)"
   ]
  },
  {
   "cell_type": "code",
   "execution_count": 13,
   "metadata": {},
   "outputs": [],
   "source": [
    "model = Sequential()\n",
    "model.add(Dense(300, activation = 'relu'))\n",
    "model.add(Dense(500, activation = 'relu'))\n",
    "model.add(Dense(300, activation = 'relu'))\n",
    "model.add(Dense(1))\n",
    "model.compile(loss = 'mean_squared_error', optimizer = 'adam')"
   ]
  },
  {
   "cell_type": "code",
   "execution_count": 14,
   "metadata": {
    "scrolled": false
   },
   "outputs": [
    {
     "data": {
      "text/plain": [
       "<tensorflow.python.keras.callbacks.History at 0x20f598087f0>"
      ]
     },
     "execution_count": 14,
     "metadata": {},
     "output_type": "execute_result"
    }
   ],
   "source": [
    "model.fit(train_X, train_y, epochs = 275, shuffle = True, verbose = 0)"
   ]
  },
  {
   "cell_type": "code",
   "execution_count": 15,
   "metadata": {},
   "outputs": [],
   "source": [
    "predictions = model.predict(val_X)"
   ]
  },
  {
   "cell_type": "code",
   "execution_count": 16,
   "metadata": {},
   "outputs": [],
   "source": [
    "if scale:\n",
    "    val_y -= added\n",
    "    val_y /= multiplied_by\n",
    "    predictions -= added\n",
    "    predictions /= multiplied_by"
   ]
  },
  {
   "cell_type": "code",
   "execution_count": 17,
   "metadata": {
    "scrolled": false
   },
   "outputs": [
    {
     "name": "stdout",
     "output_type": "stream",
     "text": [
      "0.13132213743255053\n",
      "25372.743232464025\n"
     ]
    }
   ],
   "source": [
    "print(np.sqrt(metrics.mean_squared_error(val_y, predictions)))\n",
    "print(np.sqrt(metrics.mean_squared_error(np.exp(val_y), np.exp(predictions))))"
   ]
  },
  {
   "cell_type": "code",
   "execution_count": null,
   "metadata": {},
   "outputs": [],
   "source": []
  }
 ],
 "metadata": {
  "kernelspec": {
   "display_name": "Python 3",
   "language": "python",
   "name": "python3"
  },
  "language_info": {
   "codemirror_mode": {
    "name": "ipython",
    "version": 3
   },
   "file_extension": ".py",
   "mimetype": "text/x-python",
   "name": "python",
   "nbconvert_exporter": "python",
   "pygments_lexer": "ipython3",
   "version": "3.8.1"
  }
 },
 "nbformat": 4,
 "nbformat_minor": 2
}
